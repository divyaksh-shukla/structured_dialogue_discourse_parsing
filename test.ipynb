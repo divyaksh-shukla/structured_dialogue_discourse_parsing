{
 "cells": [
  {
   "cell_type": "code",
   "execution_count": 1,
   "metadata": {},
   "outputs": [],
   "source": [
    "import pandas as pd\n",
    "import pickle\n",
    "import pickle\n",
    "from pathlib import Path\n",
    "\n",
    "convin_data_path = Path(\"convin_data/convin_complete_dataset_no_embedding.pkl\")\n",
    "\n",
    "df = pd.read_pickle(convin_data_path)"
   ]
  },
  {
   "cell_type": "code",
   "execution_count": 4,
   "metadata": {},
   "outputs": [
    {
     "data": {
      "text/plain": [
       "Index(['roman_transcript', 'native_transcript', 'machine_transcript',\n",
       "       'emotion', 'fine-grained-emotion'],\n",
       "      dtype='object')"
      ]
     },
     "execution_count": 4,
     "metadata": {},
     "output_type": "execute_result"
    }
   ],
   "source": [
    "df.columns"
   ]
  },
  {
   "cell_type": "code",
   "execution_count": 6,
   "metadata": {},
   "outputs": [
    {
     "data": {
      "text/plain": [
       "fine-grained-emotion\n",
       "None of the above    1691\n",
       "Junk                 1319\n",
       "Curiosity            1126\n",
       "Confusion              89\n",
       "Realization            89\n",
       "Anticipation            2\n",
       "Surprise                1\n",
       "Name: count, dtype: int64"
      ]
     },
     "execution_count": 6,
     "metadata": {},
     "output_type": "execute_result"
    }
   ],
   "source": [
    "df[\"fine-grained-emotion\"].value_counts()"
   ]
  },
  {
   "cell_type": "code",
   "execution_count": 3,
   "metadata": {},
   "outputs": [
    {
     "data": {
      "text/html": [
       "<div>\n",
       "<style scoped>\n",
       "    .dataframe tbody tr th:only-of-type {\n",
       "        vertical-align: middle;\n",
       "    }\n",
       "\n",
       "    .dataframe tbody tr th {\n",
       "        vertical-align: top;\n",
       "    }\n",
       "\n",
       "    .dataframe thead th {\n",
       "        text-align: right;\n",
       "    }\n",
       "</style>\n",
       "<table border=\"1\" class=\"dataframe\">\n",
       "  <thead>\n",
       "    <tr style=\"text-align: right;\">\n",
       "      <th></th>\n",
       "      <th>domain</th>\n",
       "      <th>utterance_file</th>\n",
       "      <th>domain_batch</th>\n",
       "      <th>context_file</th>\n",
       "      <th>emotion</th>\n",
       "      <th>fine-grained-emotion</th>\n",
       "      <th>text_embedding</th>\n",
       "      <th>audio_embedding</th>\n",
       "      <th>opensmile_embedding</th>\n",
       "      <th>machine_transcript</th>\n",
       "      <th>roman_transcript</th>\n",
       "      <th>native_transcript</th>\n",
       "    </tr>\n",
       "  </thead>\n",
       "  <tbody>\n",
       "    <tr>\n",
       "      <th>3110</th>\n",
       "      <td>medfin</td>\n",
       "      <td>label_studio_data/CONVIN/medfin_batch2/utteran...</td>\n",
       "      <td>medfin_batch2</td>\n",
       "      <td>label_studio_data/CONVIN/medfin_batch2/context...</td>\n",
       "      <td>Neutral</td>\n",
       "      <td>None of the above</td>\n",
       "      <td>[[[-0.5146, 0.3608, -2.084, 1.298, 0.07574, -0...</td>\n",
       "      <td>[[[0.94190216, -0.4180501, 0.9677263, 0.426029...</td>\n",
       "      <td>[['unknown', 2.044529, 0.6833603, 0.631664, 0....</td>\n",
       "      <td>कॊ हमनॅ दॅखा है ऒकॅ यॅ शहि है</td>\n",
       "      <td>ko hamane dekha hai oke ye sahi hai</td>\n",
       "      <td>को हमने देखा है ಓಕೆ ये सही है</td>\n",
       "    </tr>\n",
       "  </tbody>\n",
       "</table>\n",
       "</div>"
      ],
      "text/plain": [
       "      domain                                     utterance_file  \\\n",
       "3110  medfin  label_studio_data/CONVIN/medfin_batch2/utteran...   \n",
       "\n",
       "       domain_batch                                       context_file  \\\n",
       "3110  medfin_batch2  label_studio_data/CONVIN/medfin_batch2/context...   \n",
       "\n",
       "      emotion fine-grained-emotion  \\\n",
       "3110  Neutral    None of the above   \n",
       "\n",
       "                                         text_embedding  \\\n",
       "3110  [[[-0.5146, 0.3608, -2.084, 1.298, 0.07574, -0...   \n",
       "\n",
       "                                        audio_embedding  \\\n",
       "3110  [[[0.94190216, -0.4180501, 0.9677263, 0.426029...   \n",
       "\n",
       "                                    opensmile_embedding  \\\n",
       "3110  [['unknown', 2.044529, 0.6833603, 0.631664, 0....   \n",
       "\n",
       "                 machine_transcript                     roman_transcript  \\\n",
       "3110  कॊ हमनॅ दॅखा है ऒकॅ यॅ शहि है  ko hamane dekha hai oke ye sahi hai   \n",
       "\n",
       "                  native_transcript  \n",
       "3110  को हमने देखा है ಓಕೆ ये सही है  "
      ]
     },
     "execution_count": 3,
     "metadata": {},
     "output_type": "execute_result"
    }
   ],
   "source": [
    "df.sample(1)"
   ]
  },
  {
   "cell_type": "code",
   "execution_count": 109,
   "metadata": {},
   "outputs": [
    {
     "name": "stdout",
     "output_type": "stream",
     "text": [
      "torch.Size([18, 4096])\n"
     ]
    },
    {
     "data": {
      "text/plain": [
       "torch.Size([4269, 4096, 4096])"
      ]
     },
     "execution_count": 109,
     "metadata": {},
     "output_type": "execute_result"
    }
   ],
   "source": [
    "sample_utt = df# .sample(10)\n",
    "\n",
    "import ast\n",
    "import numpy as np\n",
    "\n",
    "# import torch pad_sequence\n",
    "from torch.nn.utils.rnn import pad_sequence\n",
    "import torch\n",
    "\n",
    "torch_data = []\n",
    "for x in sample_utt[\"text_embedding\"].tolist():\n",
    "    if x is not None:\n",
    "        try:\n",
    "            torch_data.append(torch.tensor(x).squeeze())\n",
    "        except:\n",
    "            print(x)\n",
    "            break\n",
    "\n",
    "# torch_data = [torch.tensor(x).squeeze() for x in sample_utt[\"text_embedding\"].tolist()]\n",
    "print(torch_data[0].shape)\n",
    "pad_sequence(torch_data, batch_first=True).shape"
   ]
  },
  {
   "cell_type": "code",
   "execution_count": 159,
   "metadata": {},
   "outputs": [
    {
     "name": "stderr",
     "output_type": "stream",
     "text": [
      "5367.02s - pydevd: Sending message related to process being replaced timed-out after 5 seconds\n"
     ]
    }
   ],
   "source": [
    "!export PYDEVD_WARN_SLOW_RESOLVE_TIMEOUT=20"
   ]
  },
  {
   "cell_type": "code",
   "execution_count": 160,
   "metadata": {},
   "outputs": [],
   "source": [
    "import os\n",
    "\n",
    "os.environ[\"PYDEVD_WARN_SLOW_RESOLVE_TIMEOUT\"] = \"20\""
   ]
  },
  {
   "cell_type": "code",
   "execution_count": 162,
   "metadata": {},
   "outputs": [
    {
     "data": {
      "text/html": [
       "<div>\n",
       "<style scoped>\n",
       "    .dataframe tbody tr th:only-of-type {\n",
       "        vertical-align: middle;\n",
       "    }\n",
       "\n",
       "    .dataframe tbody tr th {\n",
       "        vertical-align: top;\n",
       "    }\n",
       "\n",
       "    .dataframe thead th {\n",
       "        text-align: right;\n",
       "    }\n",
       "</style>\n",
       "<table border=\"1\" class=\"dataframe\">\n",
       "  <thead>\n",
       "    <tr style=\"text-align: right;\">\n",
       "      <th></th>\n",
       "      <th>domain</th>\n",
       "      <th>utterance_file</th>\n",
       "      <th>domain_batch</th>\n",
       "      <th>context_file</th>\n",
       "      <th>emotion</th>\n",
       "      <th>fine-grained-emotion</th>\n",
       "      <th>text_embedding</th>\n",
       "      <th>audio_embedding</th>\n",
       "      <th>opensmile_embedding</th>\n",
       "      <th>machine_transcript</th>\n",
       "      <th>roman_transcript</th>\n",
       "      <th>native_transcript</th>\n",
       "      <th>dialogue_id</th>\n",
       "      <th>utt_id</th>\n",
       "    </tr>\n",
       "  </thead>\n",
       "  <tbody>\n",
       "    <tr>\n",
       "      <th>3952</th>\n",
       "      <td>getsimpl</td>\n",
       "      <td>getsimpl_batch1/utterances/getsimpl_1570101_ut...</td>\n",
       "      <td>getsimpl_batch1</td>\n",
       "      <td>getsimpl_batch1/contexts/getsimpl_1570101_cont...</td>\n",
       "      <td>Negative</td>\n",
       "      <td>Junk</td>\n",
       "      <td>[[[-0.5146, 0.3616, -2.084, 1.297, 0.07574, -0...</td>\n",
       "      <td>[[[0.745173, 1.2565163, 3.5633893, 0.18776838,...</td>\n",
       "      <td>NaN</td>\n",
       "      <td>पहलॅ आप लॊग दॅखॊ कहा शॅ ऑर्डर आया है ऑर कॉल कह...</td>\n",
       "      <td>pahale ap log dekho kaha se order aya hai or c...</td>\n",
       "      <td>पहले आप लोग देखो कहा से order आया है or call क...</td>\n",
       "      <td>1570101</td>\n",
       "      <td>351</td>\n",
       "    </tr>\n",
       "  </tbody>\n",
       "</table>\n",
       "</div>"
      ],
      "text/plain": [
       "        domain                                     utterance_file  \\\n",
       "3952  getsimpl  getsimpl_batch1/utterances/getsimpl_1570101_ut...   \n",
       "\n",
       "         domain_batch                                       context_file  \\\n",
       "3952  getsimpl_batch1  getsimpl_batch1/contexts/getsimpl_1570101_cont...   \n",
       "\n",
       "       emotion fine-grained-emotion  \\\n",
       "3952  Negative                 Junk   \n",
       "\n",
       "                                         text_embedding  \\\n",
       "3952  [[[-0.5146, 0.3616, -2.084, 1.297, 0.07574, -0...   \n",
       "\n",
       "                                        audio_embedding opensmile_embedding  \\\n",
       "3952  [[[0.745173, 1.2565163, 3.5633893, 0.18776838,...                 NaN   \n",
       "\n",
       "                                     machine_transcript  \\\n",
       "3952  पहलॅ आप लॊग दॅखॊ कहा शॅ ऑर्डर आया है ऑर कॉल कह...   \n",
       "\n",
       "                                       roman_transcript  \\\n",
       "3952  pahale ap log dekho kaha se order aya hai or c...   \n",
       "\n",
       "                                      native_transcript dialogue_id utt_id  \n",
       "3952  पहले आप लोग देखो कहा से order आया है or call क...     1570101    351  "
      ]
     },
     "execution_count": 162,
     "metadata": {},
     "output_type": "execute_result"
    }
   ],
   "source": [
    "# sample_utt = df\n",
    "\n",
    "batches = set()\n",
    "dialogue_ids = set()\n",
    "utt_ids = set()\n",
    "\n",
    "df['dialogue_id'] = None\n",
    "df['utt_id'] = None\n",
    "\n",
    "for idx, x in enumerate(df['utterance_file'].tolist()):\n",
    "    utt_path = Path(x)\n",
    "    try:\n",
    "        df.loc[idx, 'dialogue_id'] = utt_path.name.split(\"_\")[1]\n",
    "        df.loc[idx, 'utt_id'] = Path(utt_path.name.split(\"_\")[-1]).stem    \n",
    "    except Exception as e:\n",
    "        print(utt_path)\n",
    "\n",
    "        \n",
    "\n",
    "df.sample(1)\n",
    "\n",
    "# utt_path, batch, batch_id, utt_id"
   ]
  },
  {
   "cell_type": "code",
   "execution_count": 188,
   "metadata": {},
   "outputs": [
    {
     "data": {
      "text/plain": [
       "domain_batch\n",
       "batch4             591\n",
       "batch1             552\n",
       "medfin_batch1      392\n",
       "medfin_batch2      384\n",
       "livpure_batch1     384\n",
       "batch5             379\n",
       "getsimpl_batch1    360\n",
       "getsimpl_batch2    355\n",
       "livpure_batch2     345\n",
       "batch2             288\n",
       "batch3             287\n",
       "Name: count, dtype: int64"
      ]
     },
     "execution_count": 188,
     "metadata": {},
     "output_type": "execute_result"
    }
   ],
   "source": [
    "df[\"domain_batch\"].value_counts()"
   ]
  },
  {
   "cell_type": "code",
   "execution_count": 222,
   "metadata": {},
   "outputs": [
    {
     "data": {
      "text/html": [
       "<div>\n",
       "<style scoped>\n",
       "    .dataframe tbody tr th:only-of-type {\n",
       "        vertical-align: middle;\n",
       "    }\n",
       "\n",
       "    .dataframe tbody tr th {\n",
       "        vertical-align: top;\n",
       "    }\n",
       "\n",
       "    .dataframe thead th {\n",
       "        text-align: right;\n",
       "    }\n",
       "</style>\n",
       "<table border=\"1\" class=\"dataframe\">\n",
       "  <thead>\n",
       "    <tr style=\"text-align: right;\">\n",
       "      <th></th>\n",
       "      <th></th>\n",
       "      <th></th>\n",
       "      <th></th>\n",
       "      <th>roman_transcript</th>\n",
       "      <th>native_transcript</th>\n",
       "      <th>machine_transcript</th>\n",
       "      <th>emotion</th>\n",
       "      <th>fine-grained-emotion</th>\n",
       "    </tr>\n",
       "    <tr>\n",
       "      <th>domain</th>\n",
       "      <th>domain_batch</th>\n",
       "      <th>dialogue_id</th>\n",
       "      <th>utt_id</th>\n",
       "      <th></th>\n",
       "      <th></th>\n",
       "      <th></th>\n",
       "      <th></th>\n",
       "      <th></th>\n",
       "    </tr>\n",
       "  </thead>\n",
       "  <tbody>\n",
       "    <tr>\n",
       "      <th>thomascook</th>\n",
       "      <th>batch4</th>\n",
       "      <th>1209</th>\n",
       "      <th>145</th>\n",
       "      <td>thailand not a nice place bali what else what ...</td>\n",
       "      <td>thailand not a nice place bali what else what ...</td>\n",
       "      <td>थाइलैंड नॉट ऍ नाइश प्लॅश बालि ह्वाट ऍल्श ह्वाट...</td>\n",
       "      <td>Neutral</td>\n",
       "      <td>Curiosity</td>\n",
       "    </tr>\n",
       "    <tr>\n",
       "      <th>getsimpl</th>\n",
       "      <th>getsimpl_batch2</th>\n",
       "      <th>2538164</th>\n",
       "      <th>105</th>\n",
       "      <td>simple pay later as your payment credit applic...</td>\n",
       "      <td>simple pay later as your payment credit applic...</td>\n",
       "      <td>शिम्पल पॅ लॅटर ऍश यॊर पॅमॅंट क्रॅडिट ऍप्लिकॅशन...</td>\n",
       "      <td>Neutral</td>\n",
       "      <td>Curiosity</td>\n",
       "    </tr>\n",
       "    <tr>\n",
       "      <th>thomascook</th>\n",
       "      <th>batch3</th>\n",
       "      <th>3140</th>\n",
       "      <th>285</th>\n",
       "      <td>kar dijie kya requirements hai vaha pe han ji ...</td>\n",
       "      <td>कर दीजिए क्या requirements है वहा पे हाँ जी आप...</td>\n",
       "      <td>कर दिजिऍ क्या रिक्वायरमॅंट्श है वहा पॅ हाँ जि ...</td>\n",
       "      <td>Neutral</td>\n",
       "      <td>Curiosity</td>\n",
       "    </tr>\n",
       "  </tbody>\n",
       "</table>\n",
       "</div>"
      ],
      "text/plain": [
       "                                                                                roman_transcript  \\\n",
       "domain     domain_batch    dialogue_id utt_id                                                      \n",
       "thomascook batch4          1209        145     thailand not a nice place bali what else what ...   \n",
       "getsimpl   getsimpl_batch2 2538164     105     simple pay later as your payment credit applic...   \n",
       "thomascook batch3          3140        285     kar dijie kya requirements hai vaha pe han ji ...   \n",
       "\n",
       "                                                                               native_transcript  \\\n",
       "domain     domain_batch    dialogue_id utt_id                                                      \n",
       "thomascook batch4          1209        145     thailand not a nice place bali what else what ...   \n",
       "getsimpl   getsimpl_batch2 2538164     105     simple pay later as your payment credit applic...   \n",
       "thomascook batch3          3140        285     कर दीजिए क्या requirements है वहा पे हाँ जी आप...   \n",
       "\n",
       "                                                                              machine_transcript  \\\n",
       "domain     domain_batch    dialogue_id utt_id                                                      \n",
       "thomascook batch4          1209        145     थाइलैंड नॉट ऍ नाइश प्लॅश बालि ह्वाट ऍल्श ह्वाट...   \n",
       "getsimpl   getsimpl_batch2 2538164     105     शिम्पल पॅ लॅटर ऍश यॊर पॅमॅंट क्रॅडिट ऍप्लिकॅशन...   \n",
       "thomascook batch3          3140        285     कर दिजिऍ क्या रिक्वायरमॅंट्श है वहा पॅ हाँ जि ...   \n",
       "\n",
       "                                               emotion fine-grained-emotion  \n",
       "domain     domain_batch    dialogue_id utt_id                                \n",
       "thomascook batch4          1209        145     Neutral            Curiosity  \n",
       "getsimpl   getsimpl_batch2 2538164     105     Neutral            Curiosity  \n",
       "thomascook batch3          3140        285     Neutral            Curiosity  "
      ]
     },
     "execution_count": 222,
     "metadata": {},
     "output_type": "execute_result"
    }
   ],
   "source": [
    "columns = [\"domain\", \"domain_batch\", \"dialogue_id\", \"utt_id\", \n",
    "           \"roman_transcript\", \"native_transcript\", \"machine_transcript\", \"emotion\", \"fine-grained-emotion\", \n",
    "        #    \"text_embedding\", \"audio_embedding\"\n",
    "           ]\n",
    "df1 = df[columns]\n",
    "df1 = df1.set_index([\"domain\", \"domain_batch\", \"dialogue_id\", \"utt_id\"])\n",
    "df1.sample(3)"
   ]
  },
  {
   "cell_type": "code",
   "execution_count": 220,
   "metadata": {},
   "outputs": [],
   "source": [
    "import json\n",
    "\n",
    "df1.sample(5).to_json(\"convin_data/convin_complete_dataset.json\", orient=\"table\")"
   ]
  },
  {
   "cell_type": "code",
   "execution_count": 223,
   "metadata": {},
   "outputs": [],
   "source": [
    "df1.to_pickle(\"convin_data/convin_complete_dataset_no_embedding.pkl\")"
   ]
  },
  {
   "cell_type": "code",
   "execution_count": 210,
   "metadata": {},
   "outputs": [
    {
     "data": {
      "text/plain": [
       "4"
      ]
     },
     "execution_count": 210,
     "metadata": {},
     "output_type": "execute_result"
    }
   ],
   "source": [
    "open(\"convin_data/sample.txt\", \"w\").write(str(len(df1)))"
   ]
  },
  {
   "cell_type": "code",
   "execution_count": 187,
   "metadata": {},
   "outputs": [
    {
     "data": {
      "text/html": [
       "<div>\n",
       "<style scoped>\n",
       "    .dataframe tbody tr th:only-of-type {\n",
       "        vertical-align: middle;\n",
       "    }\n",
       "\n",
       "    .dataframe tbody tr th {\n",
       "        vertical-align: top;\n",
       "    }\n",
       "\n",
       "    .dataframe thead th {\n",
       "        text-align: right;\n",
       "    }\n",
       "</style>\n",
       "<table border=\"1\" class=\"dataframe\">\n",
       "  <thead>\n",
       "    <tr style=\"text-align: right;\">\n",
       "      <th></th>\n",
       "      <th>dialogue_id</th>\n",
       "      <th>utt_id</th>\n",
       "    </tr>\n",
       "  </thead>\n",
       "  <tbody>\n",
       "    <tr>\n",
       "      <th>3962</th>\n",
       "      <td>2536630</td>\n",
       "      <td>1</td>\n",
       "    </tr>\n",
       "    <tr>\n",
       "      <th>3963</th>\n",
       "      <td>2536630</td>\n",
       "      <td>2</td>\n",
       "    </tr>\n",
       "    <tr>\n",
       "      <th>3964</th>\n",
       "      <td>2536630</td>\n",
       "      <td>3</td>\n",
       "    </tr>\n",
       "    <tr>\n",
       "      <th>3965</th>\n",
       "      <td>2536630</td>\n",
       "      <td>4</td>\n",
       "    </tr>\n",
       "    <tr>\n",
       "      <th>3966</th>\n",
       "      <td>2536630</td>\n",
       "      <td>5</td>\n",
       "    </tr>\n",
       "    <tr>\n",
       "      <th>...</th>\n",
       "      <td>...</td>\n",
       "      <td>...</td>\n",
       "    </tr>\n",
       "    <tr>\n",
       "      <th>4312</th>\n",
       "      <td>2531556</td>\n",
       "      <td>351</td>\n",
       "    </tr>\n",
       "    <tr>\n",
       "      <th>4313</th>\n",
       "      <td>2531556</td>\n",
       "      <td>352</td>\n",
       "    </tr>\n",
       "    <tr>\n",
       "      <th>4314</th>\n",
       "      <td>2531556</td>\n",
       "      <td>353</td>\n",
       "    </tr>\n",
       "    <tr>\n",
       "      <th>4315</th>\n",
       "      <td>2531556</td>\n",
       "      <td>354</td>\n",
       "    </tr>\n",
       "    <tr>\n",
       "      <th>4316</th>\n",
       "      <td>2531556</td>\n",
       "      <td>355</td>\n",
       "    </tr>\n",
       "  </tbody>\n",
       "</table>\n",
       "<p>355 rows × 2 columns</p>\n",
       "</div>"
      ],
      "text/plain": [
       "     dialogue_id utt_id\n",
       "3962     2536630      1\n",
       "3963     2536630      2\n",
       "3964     2536630      3\n",
       "3965     2536630      4\n",
       "3966     2536630      5\n",
       "...          ...    ...\n",
       "4312     2531556    351\n",
       "4313     2531556    352\n",
       "4314     2531556    353\n",
       "4315     2531556    354\n",
       "4316     2531556    355\n",
       "\n",
       "[355 rows x 2 columns]"
      ]
     },
     "execution_count": 187,
     "metadata": {},
     "output_type": "execute_result"
    }
   ],
   "source": [
    "df[df[\"domain_batch\"] == \"getsimpl_batch2\"][[\"dialogue_id\", \"utt_id\"]]"
   ]
  },
  {
   "cell_type": "code",
   "execution_count": null,
   "metadata": {},
   "outputs": [],
   "source": [
    "sample_utt = df# .sample(10)\n",
    "\n",
    "import ast\n",
    "import numpy as np\n",
    "\n",
    "# import torch pad_sequence\n",
    "from torch.nn.utils.rnn import pad_sequence\n",
    "import torch\n",
    "\n",
    "torch_data = []\n",
    "for x in sample_utt[\"text_embedding\"].tolist():\n",
    "    if x is not None:\n",
    "        try:\n",
    "            torch_data.append(torch.tensor(x).squeeze())\n",
    "        except:\n",
    "            print(x)\n",
    "            break\n",
    "\n",
    "# torch_data = [torch.tensor(x).squeeze() for x in sample_utt[\"text_embedding\"].tolist()]\n",
    "print(torch_data[0].shape)\n",
    "pad_sequence(torch_data, batch_first=True).shape"
   ]
  }
 ],
 "metadata": {
  "kernelspec": {
   "display_name": "eul_py310",
   "language": "python",
   "name": "python3"
  },
  "language_info": {
   "codemirror_mode": {
    "name": "ipython",
    "version": 3
   },
   "file_extension": ".py",
   "mimetype": "text/x-python",
   "name": "python",
   "nbconvert_exporter": "python",
   "pygments_lexer": "ipython3",
   "version": "3.10.14"
  }
 },
 "nbformat": 4,
 "nbformat_minor": 2
}
